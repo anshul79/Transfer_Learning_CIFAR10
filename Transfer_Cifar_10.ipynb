{
 "cells": [
  {
   "cell_type": "code",
   "execution_count": 1,
   "metadata": {},
   "outputs": [
    {
     "name": "stderr",
     "output_type": "stream",
     "text": [
      "Using TensorFlow backend.\n"
     ]
    }
   ],
   "source": [
    "import numpy as np\n",
    "from matplotlib import pyplot as plt\n",
    "%matplotlib inline\n",
    "\n",
    "import keras\n",
    "from keras.datasets import mnist, cifar10\n",
    "from keras.layers import Dense, Convolution2D, Flatten, Activation, Dropout, MaxPooling2D\n",
    "from keras.utils import np_utils\n",
    "from keras.models import Sequential"
   ]
  },
  {
   "cell_type": "code",
   "execution_count": 2,
   "metadata": {
    "collapsed": true
   },
   "outputs": [],
   "source": [
    "# Import CIFAR10 Datasets\n",
    "(x_train, y_train), (x_test, y_test)= cifar10.load_data()\n",
    "n_examples= 20000"
   ]
  },
  {
   "cell_type": "code",
   "execution_count": 31,
   "metadata": {},
   "outputs": [
    {
     "name": "stdout",
     "output_type": "stream",
     "text": [
      "10032\n",
      "5000\n"
     ]
    }
   ],
   "source": [
    "X1_train= []\n",
    "X1_test= []\n",
    "\n",
    "X2_train= []\n",
    "X2_test= []\n",
    "\n",
    "Y1_train= []\n",
    "Y1_test= []\n",
    "\n",
    "Y2_train= []\n",
    "Y2_test= []\n",
    "\n",
    "for ix in range(n_examples):\n",
    "    if y_train[ix] < 5:\n",
    "        #Put data in set 01\n",
    "        X1_train.append(x_train[ix]/255.0)\n",
    "        Y1_train.append(y_train[ix])\n",
    "    else:\n",
    "        #Put data in set 02\n",
    "        X2_train.append(x_train[ix]/255.0)\n",
    "        Y2_train.append(y_train[ix])\n",
    "print len(Y1_train)\n",
    "for ix in range(y_test.shape[0]):\n",
    "    if y_test[ix] < 5:\n",
    "        #Put data in set 01\n",
    "        X1_test.append(x_test[ix]/255.0)\n",
    "        Y1_test.append(y_test[ix])\n",
    "    else:\n",
    "        #Put data in set 02\n",
    "        X2_test.append(x_test[ix]/255.0)\n",
    "        Y2_test.append(y_test[ix])\n",
    "print len(Y1_test)"
   ]
  },
  {
   "cell_type": "code",
   "execution_count": 32,
   "metadata": {
    "collapsed": true
   },
   "outputs": [],
   "source": [
    "for ix in Y1_test:\n",
    "    if ix>5:\n",
    "        print ix"
   ]
  },
  {
   "cell_type": "code",
   "execution_count": 33,
   "metadata": {},
   "outputs": [
    {
     "name": "stdout",
     "output_type": "stream",
     "text": [
      "(10032, 5)\n",
      "(9968, 10)\n"
     ]
    }
   ],
   "source": [
    "X1_train= np.asarray(X1_train).reshape((-1, 32, 32, 3))\n",
    "X1_test= np.asarray(X1_test).reshape((-1, 32, 32, 3))\n",
    "\n",
    "X2_train= np.asarray(X2_train).reshape((-1, 32, 32, 3))\n",
    "X2_test= np.asarray(X2_test).reshape((-1, 32, 32, 3))\n",
    "\n",
    "Y1_train= np.asarray(Y1_train)\n",
    "Y1_train= np_utils.to_categorical(np.asarray(Y1_train), nb_classes=5)\n",
    "print Y1_train.shape\n",
    "Y1_test= np_utils.to_categorical(np.asarray(Y1_test), nb_classes=5)\n",
    "\n",
    "Y2_train= np_utils.to_categorical(np.asarray(Y2_train), nb_classes=10)\n",
    "print Y2_train.shape\n",
    "Y2_test= np_utils.to_categorical(np.asarray(Y2_test), nb_classes=10)"
   ]
  },
  {
   "cell_type": "code",
   "execution_count": 34,
   "metadata": {
    "collapsed": true
   },
   "outputs": [],
   "source": [
    "split1 = int(0.8 * X1_train.shape[0])\n",
    "split2 = int(0.8 * X2_train.shape[0])\n",
    "\n",
    "x1_val = X1_train[split1:]\n",
    "x1_train = X1_train[:split1]\n",
    "y1_val = Y1_train[split1:]\n",
    "y1_train = Y1_train[:split1]\n",
    "\n",
    "x2_val = X2_train[split2:]\n",
    "x2_train = X2_train[:split2]\n",
    "y2_val = Y2_train[split2:]\n",
    "y2_train = Y2_train[:split2]"
   ]
  },
  {
   "cell_type": "code",
   "execution_count": 35,
   "metadata": {},
   "outputs": [
    {
     "name": "stdout",
     "output_type": "stream",
     "text": [
      "(8025, 32, 32, 3) (5000, 32, 32, 3)\n",
      "(10032, 5) (5000, 5)\n",
      "(9968, 32, 32, 3) (5000, 32, 32, 3)\n",
      "(9968, 10) (5000, 10)\n"
     ]
    }
   ],
   "source": [
    "print x1_train.shape, X1_test.shape\n",
    "print Y1_train.shape, Y1_test.shape\n",
    "\n",
    "print X2_train.shape, X2_test.shape\n",
    "print Y2_train.shape, Y2_test.shape"
   ]
  },
  {
   "cell_type": "code",
   "execution_count": 36,
   "metadata": {},
   "outputs": [
    {
     "name": "stdout",
     "output_type": "stream",
     "text": [
      "____________________________________________________________________________________________________\n",
      "Layer (type)                     Output Shape          Param #     Connected to                     \n",
      "====================================================================================================\n",
      "convolution2d_13 (Convolution2D) (None, 28, 28, 32)    2432        convolution2d_input_5[0][0]      \n",
      "____________________________________________________________________________________________________\n",
      "convolution2d_14 (Convolution2D) (None, 24, 24, 16)    12816       convolution2d_13[0][0]           \n",
      "____________________________________________________________________________________________________\n",
      "maxpooling2d_5 (MaxPooling2D)    (None, 12, 12, 16)    0           convolution2d_14[0][0]           \n",
      "____________________________________________________________________________________________________\n",
      "convolution2d_15 (Convolution2D) (None, 10, 10, 8)     1160        maxpooling2d_5[0][0]             \n",
      "____________________________________________________________________________________________________\n",
      "flatten_5 (Flatten)              (None, 800)           0           convolution2d_15[0][0]           \n",
      "____________________________________________________________________________________________________\n",
      "dropout_5 (Dropout)              (None, 800)           0           flatten_5[0][0]                  \n",
      "____________________________________________________________________________________________________\n",
      "dense_9 (Dense)                  (None, 128)           102528      dropout_5[0][0]                  \n",
      "____________________________________________________________________________________________________\n",
      "activation_9 (Activation)        (None, 128)           0           dense_9[0][0]                    \n",
      "____________________________________________________________________________________________________\n",
      "dense_10 (Dense)                 (None, 5)             645         activation_9[0][0]               \n",
      "____________________________________________________________________________________________________\n",
      "activation_10 (Activation)       (None, 5)             0           dense_10[0][0]                   \n",
      "====================================================================================================\n",
      "Total params: 119,581\n",
      "Trainable params: 119,581\n",
      "Non-trainable params: 0\n",
      "____________________________________________________________________________________________________\n"
     ]
    }
   ],
   "source": [
    "model = Sequential()\n",
    "\n",
    "model.add(Convolution2D(32, 5, 5, input_shape=(32, 32, 3), activation='relu'))\n",
    "model.add(Convolution2D(16, 5, 5, activation='relu'))\n",
    "model.add(MaxPooling2D(pool_size=(2, 2)))\n",
    "model.add(Convolution2D(8, 3, 3, activation='relu'))\n",
    "model.add(Flatten())\n",
    "model.add(Dropout(0.42))\n",
    "\n",
    "model.add(Dense(128))\n",
    "model.add(Activation('relu'))\n",
    "\n",
    "model.add(Dense(5))\n",
    "model.add(Activation('softmax'))\n",
    "\n",
    "model.summary()\n",
    "model.compile(loss='categorical_crossentropy', optimizer='adam', metrics=['accuracy'])"
   ]
  },
  {
   "cell_type": "code",
   "execution_count": 37,
   "metadata": {},
   "outputs": [
    {
     "name": "stdout",
     "output_type": "stream",
     "text": [
      "0:00:05.002712\n"
     ]
    }
   ],
   "source": [
    "# Add Time module to track training time\n",
    "import time\n",
    "import datetime\n",
    "\n",
    "a = datetime.datetime.now()\n",
    "time.sleep(5)\n",
    "print datetime.datetime.now() - a"
   ]
  },
  {
   "cell_type": "code",
   "execution_count": 38,
   "metadata": {},
   "outputs": [
    {
     "name": "stdout",
     "output_type": "stream",
     "text": [
      "Train on 8025 samples, validate on 2007 samples\n",
      "Epoch 1/10\n",
      "41s - loss: 1.3810 - acc: 0.4011 - val_loss: 1.1767 - val_acc: 0.5247\n",
      "Epoch 2/10\n",
      "37s - loss: 1.1362 - acc: 0.5222 - val_loss: 1.1722 - val_acc: 0.5291\n",
      "Epoch 3/10\n",
      "36s - loss: 1.0504 - acc: 0.5640 - val_loss: 0.9657 - val_acc: 0.5999\n",
      "Epoch 4/10\n",
      "36s - loss: 0.9719 - acc: 0.5955 - val_loss: 0.9612 - val_acc: 0.6168\n",
      "Epoch 5/10\n",
      "37s - loss: 0.9545 - acc: 0.6110 - val_loss: 0.9548 - val_acc: 0.6188\n",
      "Epoch 6/10\n",
      "37s - loss: 0.9297 - acc: 0.6244 - val_loss: 0.9026 - val_acc: 0.6333\n",
      "Epoch 7/10\n",
      "37s - loss: 0.9164 - acc: 0.6274 - val_loss: 0.9232 - val_acc: 0.6208\n",
      "Epoch 8/10\n",
      "37s - loss: 0.8664 - acc: 0.6541 - val_loss: 0.8798 - val_acc: 0.6457\n",
      "Epoch 9/10\n",
      "37s - loss: 0.8483 - acc: 0.6623 - val_loss: 0.8885 - val_acc: 0.6532\n",
      "Epoch 10/10\n",
      "37s - loss: 0.8327 - acc: 0.6690 - val_loss: 0.8956 - val_acc: 0.6398\n"
     ]
    }
   ],
   "source": [
    "start = datetime.datetime.now()\n",
    "hist1 = model.fit(x1_train, y1_train,\n",
    "         nb_epoch=10,\n",
    "         shuffle=True,\n",
    "         batch_size=100,\n",
    "         validation_data=(x1_val, y1_val), verbose=2)\n",
    "\n",
    "time_taken = datetime.datetime.now() - start"
   ]
  },
  {
   "cell_type": "code",
   "execution_count": 39,
   "metadata": {},
   "outputs": [
    {
     "name": "stdout",
     "output_type": "stream",
     "text": [
      "0:06:18.215983\n"
     ]
    }
   ],
   "source": [
    "print time_taken"
   ]
  },
  {
   "cell_type": "code",
   "execution_count": 40,
   "metadata": {},
   "outputs": [
    {
     "name": "stdout",
     "output_type": "stream",
     "text": [
      "--------------------\n",
      "False\n",
      "False\n",
      "False\n",
      "False\n",
      "False\n",
      "False\n",
      "True\n",
      "True\n",
      "True\n",
      "True\n"
     ]
    }
   ],
   "source": [
    "for l in model.layers[:6]:\n",
    "    l.trainable = False\n",
    "\n",
    "print '-'*20\n",
    "    \n",
    "for l in model.layers:\n",
    "    print l.trainable"
   ]
  },
  {
   "cell_type": "code",
   "execution_count": 41,
   "metadata": {},
   "outputs": [
    {
     "name": "stdout",
     "output_type": "stream",
     "text": [
      "____________________________________________________________________________________________________\n",
      "Layer (type)                     Output Shape          Param #     Connected to                     \n",
      "====================================================================================================\n",
      "convolution2d_13 (Convolution2D) (None, 28, 28, 32)    2432        convolution2d_input_5[0][0]      \n",
      "____________________________________________________________________________________________________\n",
      "convolution2d_14 (Convolution2D) (None, 24, 24, 16)    12816       convolution2d_13[0][0]           \n",
      "                                                                   convolution2d_13[0][0]           \n",
      "____________________________________________________________________________________________________\n",
      "maxpooling2d_5 (MaxPooling2D)    (None, 12, 12, 16)    0           convolution2d_14[0][0]           \n",
      "                                                                   convolution2d_14[1][0]           \n",
      "____________________________________________________________________________________________________\n",
      "convolution2d_15 (Convolution2D) (None, 10, 10, 8)     1160        maxpooling2d_5[0][0]             \n",
      "                                                                   maxpooling2d_5[1][0]             \n",
      "____________________________________________________________________________________________________\n",
      "flatten_5 (Flatten)              (None, 800)           0           convolution2d_15[0][0]           \n",
      "                                                                   convolution2d_15[1][0]           \n",
      "____________________________________________________________________________________________________\n",
      "dropout_5 (Dropout)              (None, 800)           0           flatten_5[0][0]                  \n",
      "                                                                   flatten_5[1][0]                  \n",
      "____________________________________________________________________________________________________\n",
      "dense_11 (Dense)                 (None, 128)           102528      dropout_5[1][0]                  \n",
      "____________________________________________________________________________________________________\n",
      "activation_11 (Activation)       (None, 128)           0           dense_11[0][0]                   \n",
      "____________________________________________________________________________________________________\n",
      "dense_12 (Dense)                 (None, 10)            1290        activation_11[0][0]              \n",
      "____________________________________________________________________________________________________\n",
      "activation_12 (Activation)       (None, 10)            0           dense_12[0][0]                   \n",
      "====================================================================================================\n",
      "Total params: 120,226\n",
      "Trainable params: 103,818\n",
      "Non-trainable params: 16,408\n",
      "____________________________________________________________________________________________________\n"
     ]
    }
   ],
   "source": [
    "trans_model = Sequential(model.layers[:6])\n",
    "\n",
    "trans_model.add(Dense(128))\n",
    "trans_model.add(Activation('relu'))\n",
    "trans_model.add(Dense(10))\n",
    "trans_model.add(Activation('softmax'))\n",
    "\n",
    "trans_model.summary()\n",
    "trans_model.compile(loss='categorical_crossentropy', optimizer='adam', metrics=['accuracy'])"
   ]
  },
  {
   "cell_type": "code",
   "execution_count": 42,
   "metadata": {},
   "outputs": [
    {
     "name": "stdout",
     "output_type": "stream",
     "text": [
      "Train on 7974 samples, validate on 1994 samples\n",
      "Epoch 1/10\n",
      "19s - loss: 1.0875 - acc: 0.5838 - val_loss: 0.8658 - val_acc: 0.6760\n",
      "Epoch 2/10\n",
      "22s - loss: 0.8497 - acc: 0.6719 - val_loss: 0.8044 - val_acc: 0.6891\n",
      "Epoch 3/10\n",
      "22s - loss: 0.8268 - acc: 0.6846 - val_loss: 0.7873 - val_acc: 0.6976\n",
      "Epoch 4/10\n",
      "21s - loss: 0.8053 - acc: 0.6857 - val_loss: 0.8025 - val_acc: 0.6976\n",
      "Epoch 5/10\n",
      "20s - loss: 0.7964 - acc: 0.6970 - val_loss: 0.7892 - val_acc: 0.6976\n",
      "Epoch 6/10\n",
      "20s - loss: 0.7676 - acc: 0.7062 - val_loss: 0.7767 - val_acc: 0.7106\n",
      "Epoch 7/10\n",
      "20s - loss: 0.7614 - acc: 0.7114 - val_loss: 0.7569 - val_acc: 0.7227\n",
      "Epoch 8/10\n",
      "20s - loss: 0.7458 - acc: 0.7123 - val_loss: 0.7743 - val_acc: 0.7177\n",
      "Epoch 9/10\n",
      "20s - loss: 0.7312 - acc: 0.7197 - val_loss: 0.7571 - val_acc: 0.7192\n",
      "Epoch 10/10\n",
      "21s - loss: 0.7215 - acc: 0.7296 - val_loss: 0.7391 - val_acc: 0.7252\n"
     ]
    }
   ],
   "source": [
    "start = datetime.datetime.now()\n",
    "hist2 = trans_model.fit(x2_train, y2_train,\n",
    "         nb_epoch=10,\n",
    "         shuffle=True,\n",
    "         batch_size=100,\n",
    "         validation_data=(x2_val, y2_val), verbose=2)\n",
    "\n",
    "time_taken = datetime.datetime.now() - start"
   ]
  },
  {
   "cell_type": "code",
   "execution_count": 43,
   "metadata": {},
   "outputs": [
    {
     "name": "stdout",
     "output_type": "stream",
     "text": [
      "0:03:29.908834\n"
     ]
    }
   ],
   "source": [
    "print time_taken"
   ]
  },
  {
   "cell_type": "code",
   "execution_count": null,
   "metadata": {
    "collapsed": true
   },
   "outputs": [],
   "source": []
  }
 ],
 "metadata": {
  "kernelspec": {
   "display_name": "Python 2",
   "language": "python",
   "name": "python2"
  },
  "language_info": {
   "codemirror_mode": {
    "name": "ipython",
    "version": 2
   },
   "file_extension": ".py",
   "mimetype": "text/x-python",
   "name": "python",
   "nbconvert_exporter": "python",
   "pygments_lexer": "ipython2",
   "version": "2.7.13"
  }
 },
 "nbformat": 4,
 "nbformat_minor": 2
}
